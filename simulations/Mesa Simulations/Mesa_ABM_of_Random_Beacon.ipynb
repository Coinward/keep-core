{
 "cells": [
  {
   "cell_type": "markdown",
   "metadata": {},
   "source": [
    "# Mesa ABM of the Keep Threshold Relay"
   ]
  },
  {
   "cell_type": "markdown",
   "metadata": {},
   "source": [
    "### Simulation notes and instructions"
   ]
  },
  {
   "cell_type": "markdown",
   "metadata": {},
   "source": [
    "Notes:\n",
    "* Nodes are created simulataneously using the Mesa SimultaneousActivation scheduler\n",
    "* The nodes go through a bootstrap phase based on Antonio's diagram. They can only form groups if they are in the mainloop forked state.\n",
    "* Relay requests are currently bernoulli trials\n",
    "* Each step could be assumed to be a block\n",
    "* Singature events are modeled by default as asynchronous with a step delay to mimick the block delay\n",
    "\n",
    "Instructions:\n",
    "1. Change variables\n",
    "2. Click on the restart and run kernel icon for ipython\n",
    "\n",
    "    "
   ]
  },
  {
   "cell_type": "code",
   "execution_count": null,
   "metadata": {},
   "outputs": [],
   "source": [
    "import random\n",
    "import simpy\n",
    "import datetime\n",
    "import numpy as np\n",
    "import pandas as pd\n",
    "import agent\n",
    "import model\n",
    "import matplotlib.pyplot as plt\n",
    "import simulation_functions as sc"
   ]
  },
  {
   "cell_type": "markdown",
   "metadata": {},
   "source": [
    "**Initialize Variables**"
   ]
  },
  {
   "cell_type": "code",
   "execution_count": null,
   "metadata": {},
   "outputs": [],
   "source": [
    "group_size = 10 # Group size\n",
    "#total_tickets = 500 # total virtual stakers\n",
    "nodes = 20 # number of nodes\n",
    "active_group_threshold = 4 # min number of active groups to pick from\n",
    "signature_threshold = 10  # min number of nodes needed to sign\n",
    "signature_delay = 2 # lambda for poisson distribution used to generate a delay before the signature is executed\n",
    "group_expiry = 10 #number of steps after which a group expires\n",
    "group_formation_threshold = 3 # min number of nodes needed to create a group\n",
    "node_failure_percent = 10 # % of times nodes fail and have to reconnect\n",
    "node_death_percent = 5 # % of time nodes fail and do not reconnect\n"
   ]
  },
  {
   "cell_type": "code",
   "execution_count": null,
   "metadata": {},
   "outputs": [],
   "source": [
    "# Pre-processing Staker distributions\n",
    "# Linear y = m * (x + 1) since indices start from 0\n",
    "ticket_distribution = np.zeros(nodes) \n",
    "\n",
    "for i in range (0, nodes):\n",
    "    ticket_distribution[i] =  10 * (i + 1) # m = 50 gives max y as 1000 which is 2% of 50000\n",
    "\n",
    "x = np.linspace(1,nodes,nodes)\n",
    "plt.subplot(2, 1, 1)\n",
    "plt.bar(x, ticket_distribution)\n",
    "plt.title(\"Virtual Staker Distribution\")\n",
    "\n",
    "cdf_L02=sc.create_cdf(nodes,ticket_distribution)\n",
    "plt.subplot(2, 1, 2)\n",
    "plt.bar(x, cdf_L02)\n",
    "plt.title(\"Virtual Staker Cumulative Distribution\")"
   ]
  },
  {
   "cell_type": "code",
   "execution_count": null,
   "metadata": {},
   "outputs": [],
   "source": [
    "beacon_model = model.Beacon_Model(nodes, ticket_distribution, \n",
    "                                  active_group_threshold, \n",
    "                                  group_size, \n",
    "                                  signature_threshold, \n",
    "                                  group_expiry, \n",
    "                                  group_formation_threshold, \n",
    "                                  node_failure_percent, \n",
    "                                  node_death_percent, \n",
    "                                  signature_delay\n",
    "                                 )"
   ]
  },
  {
   "cell_type": "code",
   "execution_count": null,
   "metadata": {},
   "outputs": [],
   "source": [
    "active_group_size = []\n",
    "signature_failures = []\n",
    "for i in range (200):\n",
    "    beacon_model.step()\n",
    "    active_group_size.append(len(beacon_model.active_groups))\n",
    "    print(\"signature failure events\")\n",
    "    print(beacon_model.unsuccessful_signature_events)\n",
    "    "
   ]
  },
  {
   "cell_type": "code",
   "execution_count": null,
   "metadata": {},
   "outputs": [],
   "source": [
    "plt.figure(figsize = (10,10))\n",
    "plt.subplot(3, 1, 1)\n",
    "plt.hist(active_group_size, bins=range(max(active_group_size)+1))\n",
    "plt.xlabel(\"# of active groups\")\n",
    "plt.ylabel(\"frequency\")\n",
    "print(np.median(active_group_size))\n",
    "\n",
    "plt.subplot(3, 1, 2)\n",
    "plt.plot(np.linspace(1,len(active_group_size),len(active_group_size)),active_group_size)\n",
    "plt.xlabel(\"steps (Blocks)\")\n",
    "plt.ylabel(\"active groups\")\n",
    "\n",
    "plt.subplot(3, 1, 3)\n",
    "plt.plot(np.linspace(1,len(beacon_model.unsuccessful_signature_events),\n",
    "                     len(beacon_model.unsuccessful_signature_events)),\n",
    "                     beacon_model.unsuccessful_signature_events)\n",
    "plt.xlabel(\"Steps (Blocks)\")\n",
    "plt.ylabel(\"Signature failure events\")"
   ]
  },
  {
   "cell_type": "code",
   "execution_count": null,
   "metadata": {},
   "outputs": [],
   "source": [
    "\n",
    "max_group_ownership = []\n",
    "for group in beacon_model.schedule.agents:\n",
    "    if group.type == \"group\":\n",
    "        #print(group.ownership_distr)\n",
    "        #print(max(group.ownership_distr)/sum(group.ownership_distr))\n",
    "        max_group_ownership.append(int(round(max(group.ownership_distr)/sum(group.ownership_distr)*100)))\n",
    "\n",
    "plt.figure(figsize = (10,10))\n",
    "plt.subplot(2, 1, 1)\n",
    "plt.hist(max_group_ownership, bins=range(max(max_group_ownership)+1))\n",
    "plt.xlabel(\"Max % group ownership\")\n",
    "plt.ylabel(\"frequency\")\n",
    "print(\"Median Group ownership = \" + str(np.median(max_group_ownership)))\n",
    "\n",
    "max_signature_ownership = []\n",
    "for signature in beacon_model.schedule.agents:\n",
    "    if signature.type == \"signature\" and signature.end_signature_process:\n",
    "        #print(signature.id)\n",
    "        #print(signature.ownership_distr)\n",
    "        max_signature_ownership.append(int(round(max(signature.ownership_distr)/sum(signature.ownership_distr)*100)))\n",
    "\n",
    "plt.subplot(2, 1, 2)\n",
    "plt.hist(max_signature_ownership, bins=range(max(max_signature_ownership)+1))\n",
    "plt.xlabel(\"Max % signature ownership\")\n",
    "plt.ylabel(\"frequency\")\n",
    "print(\"Median Signature ownership = \" + str(np.median(max_signature_ownership)))"
   ]
  },
  {
   "cell_type": "markdown",
   "metadata": {},
   "source": [
    "**Further Questions**\n",
    "\n",
    "* Whats the distribution of group ownership for each node that owns at least 1 group"
   ]
  },
  {
   "cell_type": "code",
   "execution_count": null,
   "metadata": {},
   "outputs": [],
   "source": [
    "# Calculate ownership distributions per node by calculating the node's % ownership of each group\n",
    "node_ownership_percent= []\n",
    "for node in beacon_model.schedule.agents:\n",
    "    if node.type == \"node\":\n",
    "        temp = []\n",
    "        for group in beacon_model.schedule.agents:\n",
    "            if group.type == \"group\":\n",
    "                temp.append(round(group.ownership_distr[node.id]/sum(group.ownership_distr)*100))\n",
    "        node_ownership_percent.append(temp)\n",
    "\n",
    "strongest_node = node_ownership_percent.index(max(node_ownership_percent))\n",
    "weakest_node = node_ownership_percent.index(min(node_ownership_percent))\n",
    "\n",
    "plt.figure(figsize = (10,10))\n",
    "plt.subplot(2, 1, 1)\n",
    "plt.hist(node_ownership_percent[strongest_node], bins=range(int(max(node_ownership_percent[strongest_node]))+1))\n",
    "plt.xlabel(\"strongest node group ownership %\")\n",
    "plt.ylabel(\"frequency\")\n",
    "\n",
    "plt.subplot(2, 1, 2)\n",
    "plt.hist(node_ownership_percent[weakest_node], bins=range(int(max(node_ownership_percent[weakest_node]))+1))\n",
    "plt.xlabel(\"weakest node group ownership %\")\n",
    "plt.ylabel(\"frequency\")\n"
   ]
  },
  {
   "cell_type": "markdown",
   "metadata": {},
   "source": [
    "* what % of nodes own at least 1 group"
   ]
  },
  {
   "cell_type": "code",
   "execution_count": null,
   "metadata": {},
   "outputs": [],
   "source": [
    "# count the number of nodes that have no group ownerhship at all, subtract from one to get answer\n",
    "no_ownership_count = 0\n",
    "for node in node_ownership_percent:\n",
    "    if sum(node)==0:\n",
    "        no_ownership_count +=1\n",
    "        \n",
    "print(1-no_ownership_count/nodes)"
   ]
  },
  {
   "cell_type": "markdown",
   "metadata": {},
   "source": [
    "* How likely is it for a node to have a group that it owns to produce a signature"
   ]
  },
  {
   "cell_type": "code",
   "execution_count": null,
   "metadata": {},
   "outputs": [],
   "source": [
    "# for each group count the number of successful signature events \n",
    "group_signature_events = []\n",
    "group_successes = []\n",
    "group_sign_ratio = []\n",
    "for group in beacon_model.schedule.agents:\n",
    "    if group.type == \"group\":\n",
    "        group_sign_total = 0\n",
    "        group_sign_successes = 0\n",
    "        #print(\"group id = \"+str(group.id))\n",
    "        for signature in beacon_model.schedule.agents:\n",
    "            if signature.type == \"signature\":\n",
    "                #print(\"signature id = \"+str(signature.id))\n",
    "                if signature.group.id == group.id:\n",
    "                    group_sign_total +=1 # count the total number of signature events this group participates in\n",
    "                    group_sign_successes += signature.signature_success # count the number of successes\n",
    "        group_signature_events.append(group_sign_total)\n",
    "        group_successes.append(group_sign_successes)\n",
    "        if group_sign_total>0:\n",
    "            group_sign_ratio.append(round(group_sign_successes/group_sign_total*100))\n",
    "        else:\n",
    "            group_sign_ratio.append(0)\n",
    "\n",
    "print(group_sign_ratio)\n",
    "print(group_signature_events)\n",
    "print(group_successes)\n",
    "            \n",
    "    \n",
    "plt.figure(figsize = (10,10))\n",
    "plt.subplot(2, 1, 1)\n",
    "plt.hist(group_signature_events, bins=range(int(max(group_signature_events))+1))\n",
    "plt.xlabel(\"Group Signature Events\")\n",
    "plt.ylabel(\"frequency\")\n",
    "\n",
    "plt.subplot(2, 1, 2)\n",
    "plt.hist(group_sign_ratio, bins=range(int(max(group_sign_ratio))+1))\n",
    "plt.xlabel(\"Group sign success ratio\")\n",
    "plt.ylabel(\"frequency\")\n",
    "\n"
   ]
  }
 ],
 "metadata": {
  "kernelspec": {
   "display_name": "Python 3",
   "language": "python",
   "name": "python3"
  },
  "language_info": {
   "codemirror_mode": {
    "name": "ipython",
    "version": 3
   },
   "file_extension": ".py",
   "mimetype": "text/x-python",
   "name": "python",
   "nbconvert_exporter": "python",
   "pygments_lexer": "ipython3",
   "version": "3.7.1"
  }
 },
 "nbformat": 4,
 "nbformat_minor": 2
}
